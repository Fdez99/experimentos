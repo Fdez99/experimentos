{
 "cells": [
  {
   "cell_type": "code",
   "execution_count": 1,
   "id": "80817f6f",
   "metadata": {},
   "outputs": [],
   "source": [
    "# Importar módulos\n",
    "import numpy as np\n",
    "import pandas as pd"
   ]
  },
  {
   "cell_type": "code",
   "execution_count": 2,
   "id": "a0d8bb9e",
   "metadata": {},
   "outputs": [
    {
     "data": {
      "text/html": [
       "<div>\n",
       "<style scoped>\n",
       "    .dataframe tbody tr th:only-of-type {\n",
       "        vertical-align: middle;\n",
       "    }\n",
       "\n",
       "    .dataframe tbody tr th {\n",
       "        vertical-align: top;\n",
       "    }\n",
       "\n",
       "    .dataframe thead th {\n",
       "        text-align: right;\n",
       "    }\n",
       "</style>\n",
       "<table border=\"1\" class=\"dataframe\">\n",
       "  <thead>\n",
       "    <tr style=\"text-align: right;\">\n",
       "      <th></th>\n",
       "      <th>Name</th>\n",
       "      <th>Surname</th>\n",
       "      <th>Exam_1</th>\n",
       "      <th>Exam_2</th>\n",
       "      <th>Exam_3</th>\n",
       "    </tr>\n",
       "  </thead>\n",
       "  <tbody>\n",
       "    <tr>\n",
       "      <th>0</th>\n",
       "      <td>Ricarda</td>\n",
       "      <td>Keating</td>\n",
       "      <td>71.3355</td>\n",
       "      <td>37.7643</td>\n",
       "      <td>66.1680</td>\n",
       "    </tr>\n",
       "    <tr>\n",
       "      <th>1</th>\n",
       "      <td>Caroline</td>\n",
       "      <td>Wyman</td>\n",
       "      <td>92.8046</td>\n",
       "      <td>60.4482</td>\n",
       "      <td>58.9383</td>\n",
       "    </tr>\n",
       "    <tr>\n",
       "      <th>2</th>\n",
       "      <td>Pamela</td>\n",
       "      <td>Florence</td>\n",
       "      <td>47.4557</td>\n",
       "      <td>55.5342</td>\n",
       "      <td>46.5950</td>\n",
       "    </tr>\n",
       "    <tr>\n",
       "      <th>3</th>\n",
       "      <td>Celsa</td>\n",
       "      <td>Mccurry</td>\n",
       "      <td>78.5994</td>\n",
       "      <td>46.1327</td>\n",
       "      <td>83.7249</td>\n",
       "    </tr>\n",
       "    <tr>\n",
       "      <th>4</th>\n",
       "      <td>Minnie</td>\n",
       "      <td>Mcghee</td>\n",
       "      <td>67.7105</td>\n",
       "      <td>11.0892</td>\n",
       "      <td>61.4708</td>\n",
       "    </tr>\n",
       "  </tbody>\n",
       "</table>\n",
       "</div>"
      ],
      "text/plain": [
       "       Name   Surname   Exam_1   Exam_2   Exam_3\n",
       "0   Ricarda   Keating  71.3355  37.7643  66.1680\n",
       "1  Caroline     Wyman  92.8046  60.4482  58.9383\n",
       "2    Pamela  Florence  47.4557  55.5342  46.5950\n",
       "3     Celsa   Mccurry  78.5994  46.1327  83.7249\n",
       "4    Minnie    Mcghee  67.7105  11.0892  61.4708"
      ]
     },
     "execution_count": 2,
     "metadata": {},
     "output_type": "execute_result"
    }
   ],
   "source": [
    "# Cargamos el archivo .csv y que nos muestre las primeras líneas\n",
    "df_3exams = pd.read_csv(\"3exams.csv\")\n",
    "df_3exams.head()"
   ]
  },
  {
   "cell_type": "code",
   "execution_count": 3,
   "id": "498eba23",
   "metadata": {},
   "outputs": [
    {
     "name": "stdout",
     "output_type": "stream",
     "text": [
      " Exam_1    53.192444\n",
      "Exam_2     50.663881\n",
      "Exam_3     52.262675\n",
      "dtype: float64\n"
     ]
    },
    {
     "name": "stderr",
     "output_type": "stream",
     "text": [
      "C:\\Users\\Usuario\\AppData\\Local\\Temp/ipykernel_1120/2818175205.py:2: FutureWarning: Dropping of nuisance columns in DataFrame reductions (with 'numeric_only=None') is deprecated; in a future version this will raise TypeError.  Select only valid columns before calling the reduction.\n",
      "  ave = df_3exams.mean()\n"
     ]
    }
   ],
   "source": [
    "# Nota media de cada examen\n",
    "ave = df_3exams.mean()\n",
    "print(ave)"
   ]
  },
  {
   "cell_type": "code",
   "execution_count": 4,
   "id": "6c33001e",
   "metadata": {},
   "outputs": [
    {
     "name": "stdout",
     "output_type": "stream",
     "text": [
      "Highest\n",
      "-----------\n",
      " Name        Veronika\n",
      " Surname       Wyman\n",
      " Exam_1      92.8046\n",
      "Exam_2       98.6381\n",
      "Exam_3       99.2196\n",
      "dtype: object\n",
      " \n",
      "Lowest\n",
      "-----------\n",
      " Name        Angelika\n",
      " Surname      Bettis\n",
      " Exam_1       5.6459\n",
      "Exam_2        3.1602\n",
      "Exam_3        5.7589\n",
      "dtype: object\n"
     ]
    }
   ],
   "source": [
    "# Quién ha sacado la nota máxima y quién la mínima\n",
    "maxx = df_3exams.max()\n",
    "print(\"Highest\\n-----------\\n\",maxx)\n",
    "print(\" \")\n",
    "minn = df_3exams.min()\n",
    "print(\"Lowest\\n-----------\\n\",minn)"
   ]
  },
  {
   "cell_type": "code",
   "execution_count": null,
   "id": "7e623bb2",
   "metadata": {},
   "outputs": [],
   "source": []
  }
 ],
 "metadata": {
  "kernelspec": {
   "display_name": "Python 3 (ipykernel)",
   "language": "python",
   "name": "python3"
  },
  "language_info": {
   "codemirror_mode": {
    "name": "ipython",
    "version": 3
   },
   "file_extension": ".py",
   "mimetype": "text/x-python",
   "name": "python",
   "nbconvert_exporter": "python",
   "pygments_lexer": "ipython3",
   "version": "3.9.7"
  }
 },
 "nbformat": 4,
 "nbformat_minor": 5
}
