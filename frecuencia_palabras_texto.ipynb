{
 "cells": [
  {
   "cell_type": "markdown",
   "id": "b662cd6c",
   "metadata": {},
   "source": [
    "## Conversión de un archivo de texto en un diccionario de frecuencias\n",
    "  \n",
    "  Con este script tan sencillico convertiremos el texto en un archivo .txt en un diccionario que contenga cada palabra junto con el número de veces que aparece. Después, se convertirá este diccionario en un archivo separado por comas (.csv) que podremos utilizar para su análisis con Matplotlib, Excel o como mejor veamos.  "
   ]
  },
  {
   "cell_type": "code",
   "execution_count": 1,
   "id": "4f14333f",
   "metadata": {
    "collapsed": true
   },
   "outputs": [],
   "source": [
    "# Convertir el texto bruto en el formato que queremos: todo en minúsculas y sin signos de puntuación.\n",
    "\n",
    "# Importamos el módulo re, que nos permite trabajar con expresiones regulares\n",
    "\n",
    "import re\n",
    "\n",
    "# Definimos la función que transformará nuestro texto\n",
    "\n",
    "def transformar (texto):\n",
    "    textolimpio = re.sub(r\"[^a-zA-Z\\s]\", \"\", texto) # Expresión regular para indicar qué caracteres queremos conservar\n",
    "    texto_listo = textolimpio.lower() # Pasamos todo a minúsculas\n",
    "    listapalabras = texto_listo.split() # Creamos una lista con todas las palabras del texto\n",
    "    \n",
    "    mapa_frecuencias = {} # Creamos un diccionario donde almacenaremos los pares palabra-nº de veces que aparece\n",
    "    for p in set(listapalabras): # Convertimos la lista en un conjunto (set) para evitar duplicados\n",
    "        mapa_frecuencias[p] = listapalabras.count(p) # Añadimos cada palabra y su cuenta al diccionario\n",
    "        \n",
    "    return mapa_frecuencias\n"
   ]
  },
  {
   "cell_type": "code",
   "execution_count": 2,
   "id": "0a909bc5",
   "metadata": {
    "collapsed": true
   },
   "outputs": [],
   "source": [
    "# Abrimos el archivo .txt que contiene el texto para transformar\n",
    "\n",
    "with open (\"#ruta del archivo de texto que queremos transformar#\") as texto_original:\n",
    "    mapa = transformar(texto_original.read()) "
   ]
  },
  {
   "cell_type": "code",
   "execution_count": null,
   "id": "eeef9572",
   "metadata": {},
   "outputs": [],
   "source": [
    "# Importamos el módulo pandas para convertir el diccionario en un dataframe (df)\n",
    "\n",
    "import pandas as pd\n",
    "\n",
    "df = pd.DataFrame([[key, mapa[key]] for key in mapa.keys()], columns=['Palabra', 'Cuenta'])\n",
    "\n",
    "df.head() # Para que nos muestre las primeras líneas del dataframe"
   ]
  },
  {
   "cell_type": "code",
   "execution_count": 4,
   "id": "26aece76",
   "metadata": {
    "collapsed": true
   },
   "outputs": [],
   "source": [
    "# Exportamos el dataframe a un archivo separado por comas (csv), que podremos analizar posteriormente.\n",
    "\n",
    "df.to_csv('#ruta del archivo.csv#')"
   ]
  },
  {
   "cell_type": "code",
   "execution_count": null,
   "id": "cef5e938",
   "metadata": {
    "collapsed": true
   },
   "outputs": [],
   "source": []
  }
 ],
 "metadata": {
  "kernelspec": {
   "display_name": "Python 3 (ipykernel)",
   "language": "python",
   "name": "python3"
  },
  "language_info": {
   "codemirror_mode": {
    "name": "ipython",
    "version": 3
   },
   "file_extension": ".py",
   "mimetype": "text/x-python",
   "name": "python",
   "nbconvert_exporter": "python",
   "pygments_lexer": "ipython3",
   "version": "3.9.7"
  }
 },
 "nbformat": 4,
 "nbformat_minor": 5
}
