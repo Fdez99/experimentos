{
 "cells": [
  {
   "cell_type": "markdown",
   "id": "ec4ec604",
   "metadata": {},
   "source": [
    "## NASA - Objetos Cercanos a la Tierra\n",
    "#### Análisis de asteroides que andan circulando por ahí y que podrían liarla muy parda.\n",
    "(Datos obtenidos de [aquí](https://www.kaggle.com/datasets/sameepvani/nasa-nearest-earth-objects))\n",
    "\n",
    "Sonando: [Metallica - Hardwired... To Self-Destruct](https://www.metallica.com/releases/albums/release-4878.html)"
   ]
  },
  {
   "cell_type": "code",
   "execution_count": 1,
   "id": "e9584bcc",
   "metadata": {},
   "outputs": [],
   "source": [
    "import numpy as np\n",
    "import pandas as pd"
   ]
  },
  {
   "cell_type": "code",
   "execution_count": 2,
   "id": "0e62e158",
   "metadata": {},
   "outputs": [
    {
     "data": {
      "text/html": [
       "<div>\n",
       "<style scoped>\n",
       "    .dataframe tbody tr th:only-of-type {\n",
       "        vertical-align: middle;\n",
       "    }\n",
       "\n",
       "    .dataframe tbody tr th {\n",
       "        vertical-align: top;\n",
       "    }\n",
       "\n",
       "    .dataframe thead th {\n",
       "        text-align: right;\n",
       "    }\n",
       "</style>\n",
       "<table border=\"1\" class=\"dataframe\">\n",
       "  <thead>\n",
       "    <tr style=\"text-align: right;\">\n",
       "      <th></th>\n",
       "      <th>name</th>\n",
       "      <th>est_diameter_min</th>\n",
       "      <th>est_diameter_max</th>\n",
       "      <th>relative_velocity</th>\n",
       "      <th>miss_distance</th>\n",
       "      <th>orbiting_body</th>\n",
       "      <th>sentry_object</th>\n",
       "      <th>absolute_magnitude</th>\n",
       "      <th>hazardous</th>\n",
       "    </tr>\n",
       "    <tr>\n",
       "      <th>id</th>\n",
       "      <th></th>\n",
       "      <th></th>\n",
       "      <th></th>\n",
       "      <th></th>\n",
       "      <th></th>\n",
       "      <th></th>\n",
       "      <th></th>\n",
       "      <th></th>\n",
       "      <th></th>\n",
       "    </tr>\n",
       "  </thead>\n",
       "  <tbody>\n",
       "    <tr>\n",
       "      <th>2162635</th>\n",
       "      <td>162635 (2000 SS164)</td>\n",
       "      <td>1.198271</td>\n",
       "      <td>2.679415</td>\n",
       "      <td>13569.249224</td>\n",
       "      <td>5.483974e+07</td>\n",
       "      <td>Earth</td>\n",
       "      <td>False</td>\n",
       "      <td>16.73</td>\n",
       "      <td>False</td>\n",
       "    </tr>\n",
       "    <tr>\n",
       "      <th>2277475</th>\n",
       "      <td>277475 (2005 WK4)</td>\n",
       "      <td>0.265800</td>\n",
       "      <td>0.594347</td>\n",
       "      <td>73588.726663</td>\n",
       "      <td>6.143813e+07</td>\n",
       "      <td>Earth</td>\n",
       "      <td>False</td>\n",
       "      <td>20.00</td>\n",
       "      <td>True</td>\n",
       "    </tr>\n",
       "    <tr>\n",
       "      <th>2512244</th>\n",
       "      <td>512244 (2015 YE18)</td>\n",
       "      <td>0.722030</td>\n",
       "      <td>1.614507</td>\n",
       "      <td>114258.692129</td>\n",
       "      <td>4.979872e+07</td>\n",
       "      <td>Earth</td>\n",
       "      <td>False</td>\n",
       "      <td>17.83</td>\n",
       "      <td>False</td>\n",
       "    </tr>\n",
       "    <tr>\n",
       "      <th>3596030</th>\n",
       "      <td>(2012 BV13)</td>\n",
       "      <td>0.096506</td>\n",
       "      <td>0.215794</td>\n",
       "      <td>24764.303138</td>\n",
       "      <td>2.543497e+07</td>\n",
       "      <td>Earth</td>\n",
       "      <td>False</td>\n",
       "      <td>22.20</td>\n",
       "      <td>False</td>\n",
       "    </tr>\n",
       "    <tr>\n",
       "      <th>3667127</th>\n",
       "      <td>(2014 GE35)</td>\n",
       "      <td>0.255009</td>\n",
       "      <td>0.570217</td>\n",
       "      <td>42737.733765</td>\n",
       "      <td>4.627557e+07</td>\n",
       "      <td>Earth</td>\n",
       "      <td>False</td>\n",
       "      <td>20.09</td>\n",
       "      <td>True</td>\n",
       "    </tr>\n",
       "  </tbody>\n",
       "</table>\n",
       "</div>"
      ],
      "text/plain": [
       "                        name  est_diameter_min  est_diameter_max  \\\n",
       "id                                                                 \n",
       "2162635  162635 (2000 SS164)          1.198271          2.679415   \n",
       "2277475    277475 (2005 WK4)          0.265800          0.594347   \n",
       "2512244   512244 (2015 YE18)          0.722030          1.614507   \n",
       "3596030          (2012 BV13)          0.096506          0.215794   \n",
       "3667127          (2014 GE35)          0.255009          0.570217   \n",
       "\n",
       "         relative_velocity  miss_distance orbiting_body  sentry_object  \\\n",
       "id                                                                       \n",
       "2162635       13569.249224   5.483974e+07         Earth          False   \n",
       "2277475       73588.726663   6.143813e+07         Earth          False   \n",
       "2512244      114258.692129   4.979872e+07         Earth          False   \n",
       "3596030       24764.303138   2.543497e+07         Earth          False   \n",
       "3667127       42737.733765   4.627557e+07         Earth          False   \n",
       "\n",
       "         absolute_magnitude  hazardous  \n",
       "id                                      \n",
       "2162635               16.73      False  \n",
       "2277475               20.00       True  \n",
       "2512244               17.83      False  \n",
       "3596030               22.20      False  \n",
       "3667127               20.09       True  "
      ]
     },
     "execution_count": 2,
     "metadata": {},
     "output_type": "execute_result"
    }
   ],
   "source": [
    "file = 'nasa_objects_near_earth.csv' #Para más comodidad, he dejado el .csv en este mismo directorio\n",
    "df_objects = pd.read_csv(file)\n",
    "\n",
    "df_objects.set_index('id', inplace=True)\n",
    "\n",
    "df_objects.head()"
   ]
  },
  {
   "cell_type": "markdown",
   "id": "2f4fb5fa",
   "metadata": {},
   "source": [
    "Evaluemos si hay datos faltantes:"
   ]
  },
  {
   "cell_type": "code",
   "execution_count": 3,
   "id": "3343320d",
   "metadata": {},
   "outputs": [
    {
     "name": "stdout",
     "output_type": "stream",
     "text": [
      "name\n",
      "False    90836\n",
      "Name: name, dtype: int64\n",
      "\n",
      "est_diameter_min\n",
      "False    90836\n",
      "Name: est_diameter_min, dtype: int64\n",
      "\n",
      "est_diameter_max\n",
      "False    90836\n",
      "Name: est_diameter_max, dtype: int64\n",
      "\n",
      "relative_velocity\n",
      "False    90836\n",
      "Name: relative_velocity, dtype: int64\n",
      "\n",
      "miss_distance\n",
      "False    90836\n",
      "Name: miss_distance, dtype: int64\n",
      "\n",
      "orbiting_body\n",
      "False    90836\n",
      "Name: orbiting_body, dtype: int64\n",
      "\n",
      "sentry_object\n",
      "False    90836\n",
      "Name: sentry_object, dtype: int64\n",
      "\n",
      "absolute_magnitude\n",
      "False    90836\n",
      "Name: absolute_magnitude, dtype: int64\n",
      "\n",
      "hazardous\n",
      "False    90836\n",
      "Name: hazardous, dtype: int64\n",
      "\n"
     ]
    }
   ],
   "source": [
    "missingdata = df_objects.isnull()\n",
    "columnas = missingdata.columns.values.tolist()\n",
    "\n",
    "for c in columnas:\n",
    "    print(c)\n",
    "    print(missingdata[c].value_counts())\n",
    "    print('')"
   ]
  },
  {
   "cell_type": "markdown",
   "id": "68ac0ef5",
   "metadata": {},
   "source": [
    "Vale; pues tenemos 90.836 filas y no hay valores nulos, lo cual está muy bien.\n",
    "Veamos ahora si los datos de la tabla tienen el formato correcto:"
   ]
  },
  {
   "cell_type": "code",
   "execution_count": 4,
   "id": "d4179873",
   "metadata": {},
   "outputs": [
    {
     "data": {
      "text/plain": [
       "name                   object\n",
       "est_diameter_min      float64\n",
       "est_diameter_max      float64\n",
       "relative_velocity     float64\n",
       "miss_distance         float64\n",
       "orbiting_body          object\n",
       "sentry_object            bool\n",
       "absolute_magnitude    float64\n",
       "hazardous                bool\n",
       "dtype: object"
      ]
     },
     "execution_count": 4,
     "metadata": {},
     "output_type": "execute_result"
    }
   ],
   "source": [
    "df_objects.dtypes"
   ]
  },
  {
   "cell_type": "markdown",
   "id": "f3ee7436",
   "metadata": {},
   "source": [
    "¡Perfecto! Con _datasets_ así da gusto trabajar, oye.\n",
    "Veamos ahora el conjunto de estadísticas para los datos numéricos:"
   ]
  },
  {
   "cell_type": "code",
   "execution_count": 5,
   "id": "cee0d65c",
   "metadata": {},
   "outputs": [
    {
     "data": {
      "text/html": [
       "<div>\n",
       "<style scoped>\n",
       "    .dataframe tbody tr th:only-of-type {\n",
       "        vertical-align: middle;\n",
       "    }\n",
       "\n",
       "    .dataframe tbody tr th {\n",
       "        vertical-align: top;\n",
       "    }\n",
       "\n",
       "    .dataframe thead th {\n",
       "        text-align: right;\n",
       "    }\n",
       "</style>\n",
       "<table border=\"1\" class=\"dataframe\">\n",
       "  <thead>\n",
       "    <tr style=\"text-align: right;\">\n",
       "      <th></th>\n",
       "      <th>est_diameter_min</th>\n",
       "      <th>est_diameter_max</th>\n",
       "      <th>relative_velocity</th>\n",
       "      <th>miss_distance</th>\n",
       "      <th>absolute_magnitude</th>\n",
       "    </tr>\n",
       "  </thead>\n",
       "  <tbody>\n",
       "    <tr>\n",
       "      <th>count</th>\n",
       "      <td>90836.000000</td>\n",
       "      <td>90836.000000</td>\n",
       "      <td>90836.000000</td>\n",
       "      <td>9.083600e+04</td>\n",
       "      <td>90836.000000</td>\n",
       "    </tr>\n",
       "    <tr>\n",
       "      <th>mean</th>\n",
       "      <td>0.127432</td>\n",
       "      <td>0.284947</td>\n",
       "      <td>48066.918918</td>\n",
       "      <td>3.706655e+07</td>\n",
       "      <td>23.527103</td>\n",
       "    </tr>\n",
       "    <tr>\n",
       "      <th>std</th>\n",
       "      <td>0.298511</td>\n",
       "      <td>0.667491</td>\n",
       "      <td>25293.296961</td>\n",
       "      <td>2.235204e+07</td>\n",
       "      <td>2.894086</td>\n",
       "    </tr>\n",
       "    <tr>\n",
       "      <th>min</th>\n",
       "      <td>0.000609</td>\n",
       "      <td>0.001362</td>\n",
       "      <td>203.346433</td>\n",
       "      <td>6.745533e+03</td>\n",
       "      <td>9.230000</td>\n",
       "    </tr>\n",
       "    <tr>\n",
       "      <th>25%</th>\n",
       "      <td>0.019256</td>\n",
       "      <td>0.043057</td>\n",
       "      <td>28619.020645</td>\n",
       "      <td>1.721082e+07</td>\n",
       "      <td>21.340000</td>\n",
       "    </tr>\n",
       "    <tr>\n",
       "      <th>50%</th>\n",
       "      <td>0.048368</td>\n",
       "      <td>0.108153</td>\n",
       "      <td>44190.117890</td>\n",
       "      <td>3.784658e+07</td>\n",
       "      <td>23.700000</td>\n",
       "    </tr>\n",
       "    <tr>\n",
       "      <th>75%</th>\n",
       "      <td>0.143402</td>\n",
       "      <td>0.320656</td>\n",
       "      <td>62923.604633</td>\n",
       "      <td>5.654900e+07</td>\n",
       "      <td>25.700000</td>\n",
       "    </tr>\n",
       "    <tr>\n",
       "      <th>max</th>\n",
       "      <td>37.892650</td>\n",
       "      <td>84.730541</td>\n",
       "      <td>236990.128088</td>\n",
       "      <td>7.479865e+07</td>\n",
       "      <td>33.200000</td>\n",
       "    </tr>\n",
       "  </tbody>\n",
       "</table>\n",
       "</div>"
      ],
      "text/plain": [
       "       est_diameter_min  est_diameter_max  relative_velocity  miss_distance  \\\n",
       "count      90836.000000      90836.000000       90836.000000   9.083600e+04   \n",
       "mean           0.127432          0.284947       48066.918918   3.706655e+07   \n",
       "std            0.298511          0.667491       25293.296961   2.235204e+07   \n",
       "min            0.000609          0.001362         203.346433   6.745533e+03   \n",
       "25%            0.019256          0.043057       28619.020645   1.721082e+07   \n",
       "50%            0.048368          0.108153       44190.117890   3.784658e+07   \n",
       "75%            0.143402          0.320656       62923.604633   5.654900e+07   \n",
       "max           37.892650         84.730541      236990.128088   7.479865e+07   \n",
       "\n",
       "       absolute_magnitude  \n",
       "count        90836.000000  \n",
       "mean            23.527103  \n",
       "std              2.894086  \n",
       "min              9.230000  \n",
       "25%             21.340000  \n",
       "50%             23.700000  \n",
       "75%             25.700000  \n",
       "max             33.200000  "
      ]
     },
     "execution_count": 5,
     "metadata": {},
     "output_type": "execute_result"
    }
   ],
   "source": [
    "df_objects.describe()"
   ]
  },
  {
   "cell_type": "code",
   "execution_count": 6,
   "id": "ea832970",
   "metadata": {},
   "outputs": [
    {
     "name": "stdout",
     "output_type": "stream",
     "text": [
      "Earth    90836\n",
      "Name: orbiting_body, dtype: int64\n",
      "False    90836\n",
      "Name: sentry_object, dtype: int64\n"
     ]
    }
   ],
   "source": [
    "print(df_objects['orbiting_body'].value_counts())\n",
    "print(df_objects['sentry_object'].value_counts())"
   ]
  },
  {
   "cell_type": "markdown",
   "id": "5b4e6e18",
   "metadata": {},
   "source": [
    "Todos los objetos orbitan la Tierra y tienen el valor de 'sentry_object' como False, así que podemos prescindir de ambas columnas:"
   ]
  },
  {
   "cell_type": "code",
   "execution_count": 7,
   "id": "ef6ff096",
   "metadata": {},
   "outputs": [
    {
     "data": {
      "text/html": [
       "<div>\n",
       "<style scoped>\n",
       "    .dataframe tbody tr th:only-of-type {\n",
       "        vertical-align: middle;\n",
       "    }\n",
       "\n",
       "    .dataframe tbody tr th {\n",
       "        vertical-align: top;\n",
       "    }\n",
       "\n",
       "    .dataframe thead th {\n",
       "        text-align: right;\n",
       "    }\n",
       "</style>\n",
       "<table border=\"1\" class=\"dataframe\">\n",
       "  <thead>\n",
       "    <tr style=\"text-align: right;\">\n",
       "      <th></th>\n",
       "      <th>name</th>\n",
       "      <th>est_diameter_min</th>\n",
       "      <th>est_diameter_max</th>\n",
       "      <th>relative_velocity</th>\n",
       "      <th>miss_distance</th>\n",
       "      <th>absolute_magnitude</th>\n",
       "      <th>hazardous</th>\n",
       "    </tr>\n",
       "    <tr>\n",
       "      <th>id</th>\n",
       "      <th></th>\n",
       "      <th></th>\n",
       "      <th></th>\n",
       "      <th></th>\n",
       "      <th></th>\n",
       "      <th></th>\n",
       "      <th></th>\n",
       "    </tr>\n",
       "  </thead>\n",
       "  <tbody>\n",
       "    <tr>\n",
       "      <th>2162635</th>\n",
       "      <td>162635 (2000 SS164)</td>\n",
       "      <td>1.198271</td>\n",
       "      <td>2.679415</td>\n",
       "      <td>13569.249224</td>\n",
       "      <td>5.483974e+07</td>\n",
       "      <td>16.73</td>\n",
       "      <td>False</td>\n",
       "    </tr>\n",
       "    <tr>\n",
       "      <th>2277475</th>\n",
       "      <td>277475 (2005 WK4)</td>\n",
       "      <td>0.265800</td>\n",
       "      <td>0.594347</td>\n",
       "      <td>73588.726663</td>\n",
       "      <td>6.143813e+07</td>\n",
       "      <td>20.00</td>\n",
       "      <td>True</td>\n",
       "    </tr>\n",
       "    <tr>\n",
       "      <th>2512244</th>\n",
       "      <td>512244 (2015 YE18)</td>\n",
       "      <td>0.722030</td>\n",
       "      <td>1.614507</td>\n",
       "      <td>114258.692129</td>\n",
       "      <td>4.979872e+07</td>\n",
       "      <td>17.83</td>\n",
       "      <td>False</td>\n",
       "    </tr>\n",
       "    <tr>\n",
       "      <th>3596030</th>\n",
       "      <td>(2012 BV13)</td>\n",
       "      <td>0.096506</td>\n",
       "      <td>0.215794</td>\n",
       "      <td>24764.303138</td>\n",
       "      <td>2.543497e+07</td>\n",
       "      <td>22.20</td>\n",
       "      <td>False</td>\n",
       "    </tr>\n",
       "    <tr>\n",
       "      <th>3667127</th>\n",
       "      <td>(2014 GE35)</td>\n",
       "      <td>0.255009</td>\n",
       "      <td>0.570217</td>\n",
       "      <td>42737.733765</td>\n",
       "      <td>4.627557e+07</td>\n",
       "      <td>20.09</td>\n",
       "      <td>True</td>\n",
       "    </tr>\n",
       "  </tbody>\n",
       "</table>\n",
       "</div>"
      ],
      "text/plain": [
       "                        name  est_diameter_min  est_diameter_max  \\\n",
       "id                                                                 \n",
       "2162635  162635 (2000 SS164)          1.198271          2.679415   \n",
       "2277475    277475 (2005 WK4)          0.265800          0.594347   \n",
       "2512244   512244 (2015 YE18)          0.722030          1.614507   \n",
       "3596030          (2012 BV13)          0.096506          0.215794   \n",
       "3667127          (2014 GE35)          0.255009          0.570217   \n",
       "\n",
       "         relative_velocity  miss_distance  absolute_magnitude  hazardous  \n",
       "id                                                                        \n",
       "2162635       13569.249224   5.483974e+07               16.73      False  \n",
       "2277475       73588.726663   6.143813e+07               20.00       True  \n",
       "2512244      114258.692129   4.979872e+07               17.83      False  \n",
       "3596030       24764.303138   2.543497e+07               22.20      False  \n",
       "3667127       42737.733765   4.627557e+07               20.09       True  "
      ]
     },
     "execution_count": 7,
     "metadata": {},
     "output_type": "execute_result"
    }
   ],
   "source": [
    "df_objects.drop(['orbiting_body', 'sentry_object'], axis=1, inplace=True)\n",
    "df_objects.head()"
   ]
  },
  {
   "cell_type": "markdown",
   "id": "45df002d",
   "metadata": {},
   "source": [
    "De igual forma, podemos establecer una única magnitud para el tamaño; pongamos la media del diámetro mayor y menor para cada objeto:"
   ]
  },
  {
   "cell_type": "code",
   "execution_count": 8,
   "id": "47d3d976",
   "metadata": {},
   "outputs": [
    {
     "data": {
      "text/html": [
       "<div>\n",
       "<style scoped>\n",
       "    .dataframe tbody tr th:only-of-type {\n",
       "        vertical-align: middle;\n",
       "    }\n",
       "\n",
       "    .dataframe tbody tr th {\n",
       "        vertical-align: top;\n",
       "    }\n",
       "\n",
       "    .dataframe thead th {\n",
       "        text-align: right;\n",
       "    }\n",
       "</style>\n",
       "<table border=\"1\" class=\"dataframe\">\n",
       "  <thead>\n",
       "    <tr style=\"text-align: right;\">\n",
       "      <th></th>\n",
       "      <th>name</th>\n",
       "      <th>relative_velocity</th>\n",
       "      <th>miss_distance</th>\n",
       "      <th>absolute_magnitude</th>\n",
       "      <th>hazardous</th>\n",
       "      <th>size</th>\n",
       "    </tr>\n",
       "    <tr>\n",
       "      <th>id</th>\n",
       "      <th></th>\n",
       "      <th></th>\n",
       "      <th></th>\n",
       "      <th></th>\n",
       "      <th></th>\n",
       "      <th></th>\n",
       "    </tr>\n",
       "  </thead>\n",
       "  <tbody>\n",
       "    <tr>\n",
       "      <th>2162635</th>\n",
       "      <td>162635 (2000 SS164)</td>\n",
       "      <td>13569.249224</td>\n",
       "      <td>5.483974e+07</td>\n",
       "      <td>16.73</td>\n",
       "      <td>False</td>\n",
       "      <td>1.938843</td>\n",
       "    </tr>\n",
       "    <tr>\n",
       "      <th>2277475</th>\n",
       "      <td>277475 (2005 WK4)</td>\n",
       "      <td>73588.726663</td>\n",
       "      <td>6.143813e+07</td>\n",
       "      <td>20.00</td>\n",
       "      <td>True</td>\n",
       "      <td>0.430073</td>\n",
       "    </tr>\n",
       "    <tr>\n",
       "      <th>2512244</th>\n",
       "      <td>512244 (2015 YE18)</td>\n",
       "      <td>114258.692129</td>\n",
       "      <td>4.979872e+07</td>\n",
       "      <td>17.83</td>\n",
       "      <td>False</td>\n",
       "      <td>1.168268</td>\n",
       "    </tr>\n",
       "    <tr>\n",
       "      <th>3596030</th>\n",
       "      <td>(2012 BV13)</td>\n",
       "      <td>24764.303138</td>\n",
       "      <td>2.543497e+07</td>\n",
       "      <td>22.20</td>\n",
       "      <td>False</td>\n",
       "      <td>0.156150</td>\n",
       "    </tr>\n",
       "    <tr>\n",
       "      <th>3667127</th>\n",
       "      <td>(2014 GE35)</td>\n",
       "      <td>42737.733765</td>\n",
       "      <td>4.627557e+07</td>\n",
       "      <td>20.09</td>\n",
       "      <td>True</td>\n",
       "      <td>0.412613</td>\n",
       "    </tr>\n",
       "  </tbody>\n",
       "</table>\n",
       "</div>"
      ],
      "text/plain": [
       "                        name  relative_velocity  miss_distance  \\\n",
       "id                                                               \n",
       "2162635  162635 (2000 SS164)       13569.249224   5.483974e+07   \n",
       "2277475    277475 (2005 WK4)       73588.726663   6.143813e+07   \n",
       "2512244   512244 (2015 YE18)      114258.692129   4.979872e+07   \n",
       "3596030          (2012 BV13)       24764.303138   2.543497e+07   \n",
       "3667127          (2014 GE35)       42737.733765   4.627557e+07   \n",
       "\n",
       "         absolute_magnitude  hazardous      size  \n",
       "id                                                \n",
       "2162635               16.73      False  1.938843  \n",
       "2277475               20.00       True  0.430073  \n",
       "2512244               17.83      False  1.168268  \n",
       "3596030               22.20      False  0.156150  \n",
       "3667127               20.09       True  0.412613  "
      ]
     },
     "execution_count": 8,
     "metadata": {},
     "output_type": "execute_result"
    }
   ],
   "source": [
    "df_objects['size'] = (df_objects['est_diameter_min']+df_objects['est_diameter_max'])/2\n",
    "df_objects.drop(['est_diameter_min', 'est_diameter_max'], axis=1, inplace=True)\n",
    "df_objects.head()"
   ]
  },
  {
   "cell_type": "markdown",
   "id": "186001fa",
   "metadata": {},
   "source": [
    "¿Cuántos de esos 90.836 objetos suponen algún peligro, según la NASA?"
   ]
  },
  {
   "cell_type": "code",
   "execution_count": 9,
   "id": "da8449cf",
   "metadata": {},
   "outputs": [
    {
     "data": {
      "text/plain": [
       "False    81996\n",
       "True      8840\n",
       "Name: hazardous, dtype: int64"
      ]
     },
     "execution_count": 9,
     "metadata": {},
     "output_type": "execute_result"
    }
   ],
   "source": [
    "df_objects['hazardous'].value_counts()"
   ]
  },
  {
   "cell_type": "markdown",
   "id": "1a9f09cb",
   "metadata": {},
   "source": [
    "Vamos a conocer mejor a nuestros potenciales causantes de extinciones masivas. Comprobemos si el tamaño y la velocidad relativa a la Tierra tienen algo que ver:"
   ]
  },
  {
   "cell_type": "code",
   "execution_count": 10,
   "id": "e61d8651",
   "metadata": {},
   "outputs": [
    {
     "data": {
      "text/plain": [
       "<AxesSubplot:xlabel='size', ylabel='relative_velocity'>"
      ]
     },
     "execution_count": 10,
     "metadata": {},
     "output_type": "execute_result"
    },
    {
     "data": {
      "image/png": "[encoded data removed]",
      "text/plain": [
       "<Figure size 432x288 with 1 Axes>"
      ]
     },
     "metadata": {
      "needs_background": "light"
     },
     "output_type": "display_data"
    }
   ],
   "source": [
    "df_objects.plot(kind='scatter', x='size', y='relative_velocity')"
   ]
  },
  {
   "cell_type": "markdown",
   "id": "96c8e0dd",
   "metadata": {},
   "source": [
    "Consideremos ahora sólo los \"peligrosos\":"
   ]
  },
  {
   "cell_type": "code",
   "execution_count": 11,
   "id": "88c5c202",
   "metadata": {},
   "outputs": [
    {
     "data": {
      "text/html": [
       "<div>\n",
       "<style scoped>\n",
       "    .dataframe tbody tr th:only-of-type {\n",
       "        vertical-align: middle;\n",
       "    }\n",
       "\n",
       "    .dataframe tbody tr th {\n",
       "        vertical-align: top;\n",
       "    }\n",
       "\n",
       "    .dataframe thead th {\n",
       "        text-align: right;\n",
       "    }\n",
       "</style>\n",
       "<table border=\"1\" class=\"dataframe\">\n",
       "  <thead>\n",
       "    <tr style=\"text-align: right;\">\n",
       "      <th></th>\n",
       "      <th>name</th>\n",
       "      <th>relative_velocity</th>\n",
       "      <th>miss_distance</th>\n",
       "      <th>absolute_magnitude</th>\n",
       "      <th>hazardous</th>\n",
       "      <th>size</th>\n",
       "    </tr>\n",
       "    <tr>\n",
       "      <th>id</th>\n",
       "      <th></th>\n",
       "      <th></th>\n",
       "      <th></th>\n",
       "      <th></th>\n",
       "      <th></th>\n",
       "      <th></th>\n",
       "    </tr>\n",
       "  </thead>\n",
       "  <tbody>\n",
       "    <tr>\n",
       "      <th>2277475</th>\n",
       "      <td>277475 (2005 WK4)</td>\n",
       "      <td>73588.726663</td>\n",
       "      <td>6.143813e+07</td>\n",
       "      <td>20.00</td>\n",
       "      <td>True</td>\n",
       "      <td>0.430073</td>\n",
       "    </tr>\n",
       "    <tr>\n",
       "      <th>3667127</th>\n",
       "      <td>(2014 GE35)</td>\n",
       "      <td>42737.733765</td>\n",
       "      <td>4.627557e+07</td>\n",
       "      <td>20.09</td>\n",
       "      <td>True</td>\n",
       "      <td>0.412613</td>\n",
       "    </tr>\n",
       "    <tr>\n",
       "      <th>54049873</th>\n",
       "      <td>(2020 OT6)</td>\n",
       "      <td>58430.697200</td>\n",
       "      <td>3.833750e+07</td>\n",
       "      <td>20.11</td>\n",
       "      <td>True</td>\n",
       "      <td>0.408830</td>\n",
       "    </tr>\n",
       "    <tr>\n",
       "      <th>2506491</th>\n",
       "      <td>506491 (2003 UW29)</td>\n",
       "      <td>115899.180498</td>\n",
       "      <td>1.510102e+07</td>\n",
       "      <td>20.60</td>\n",
       "      <td>True</td>\n",
       "      <td>0.326244</td>\n",
       "    </tr>\n",
       "    <tr>\n",
       "      <th>3781344</th>\n",
       "      <td>(2017 RV)</td>\n",
       "      <td>48655.305132</td>\n",
       "      <td>3.279775e+07</td>\n",
       "      <td>21.90</td>\n",
       "      <td>True</td>\n",
       "      <td>0.179284</td>\n",
       "    </tr>\n",
       "    <tr>\n",
       "      <th>...</th>\n",
       "      <td>...</td>\n",
       "      <td>...</td>\n",
       "      <td>...</td>\n",
       "      <td>...</td>\n",
       "      <td>...</td>\n",
       "      <td>...</td>\n",
       "    </tr>\n",
       "    <tr>\n",
       "      <th>3776295</th>\n",
       "      <td>(2017 NH)</td>\n",
       "      <td>67595.756852</td>\n",
       "      <td>5.681059e+07</td>\n",
       "      <td>21.50</td>\n",
       "      <td>True</td>\n",
       "      <td>0.215547</td>\n",
       "    </tr>\n",
       "    <tr>\n",
       "      <th>54235530</th>\n",
       "      <td>(2022 AY1)</td>\n",
       "      <td>51149.696785</td>\n",
       "      <td>5.450002e+07</td>\n",
       "      <td>22.02</td>\n",
       "      <td>True</td>\n",
       "      <td>0.169646</td>\n",
       "    </tr>\n",
       "    <tr>\n",
       "      <th>2138404</th>\n",
       "      <td>138404 (2000 HA24)</td>\n",
       "      <td>33008.617883</td>\n",
       "      <td>7.189835e+07</td>\n",
       "      <td>19.36</td>\n",
       "      <td>True</td>\n",
       "      <td>0.577488</td>\n",
       "    </tr>\n",
       "    <tr>\n",
       "      <th>2377732</th>\n",
       "      <td>377732 (2005 XJ8)</td>\n",
       "      <td>53362.798148</td>\n",
       "      <td>4.756627e+07</td>\n",
       "      <td>17.05</td>\n",
       "      <td>True</td>\n",
       "      <td>1.673180</td>\n",
       "    </tr>\n",
       "    <tr>\n",
       "      <th>3836727</th>\n",
       "      <td>(2018 XR)</td>\n",
       "      <td>71465.448580</td>\n",
       "      <td>8.894222e+06</td>\n",
       "      <td>18.59</td>\n",
       "      <td>True</td>\n",
       "      <td>0.823271</td>\n",
       "    </tr>\n",
       "  </tbody>\n",
       "</table>\n",
       "<p>8840 rows × 6 columns</p>\n",
       "</div>"
      ],
      "text/plain": [
       "                        name  relative_velocity  miss_distance  \\\n",
       "id                                                               \n",
       "2277475    277475 (2005 WK4)       73588.726663   6.143813e+07   \n",
       "3667127          (2014 GE35)       42737.733765   4.627557e+07   \n",
       "54049873          (2020 OT6)       58430.697200   3.833750e+07   \n",
       "2506491   506491 (2003 UW29)      115899.180498   1.510102e+07   \n",
       "3781344            (2017 RV)       48655.305132   3.279775e+07   \n",
       "...                      ...                ...            ...   \n",
       "3776295            (2017 NH)       67595.756852   5.681059e+07   \n",
       "54235530          (2022 AY1)       51149.696785   5.450002e+07   \n",
       "2138404   138404 (2000 HA24)       33008.617883   7.189835e+07   \n",
       "2377732    377732 (2005 XJ8)       53362.798148   4.756627e+07   \n",
       "3836727            (2018 XR)       71465.448580   8.894222e+06   \n",
       "\n",
       "          absolute_magnitude  hazardous      size  \n",
       "id                                                 \n",
       "2277475                20.00       True  0.430073  \n",
       "3667127                20.09       True  0.412613  \n",
       "54049873               20.11       True  0.408830  \n",
       "2506491                20.60       True  0.326244  \n",
       "3781344                21.90       True  0.179284  \n",
       "...                      ...        ...       ...  \n",
       "3776295                21.50       True  0.215547  \n",
       "54235530               22.02       True  0.169646  \n",
       "2138404                19.36       True  0.577488  \n",
       "2377732                17.05       True  1.673180  \n",
       "3836727                18.59       True  0.823271  \n",
       "\n",
       "[8840 rows x 6 columns]"
      ]
     },
     "execution_count": 11,
     "metadata": {},
     "output_type": "execute_result"
    }
   ],
   "source": [
    "df_hazardous = df_objects[df_objects['hazardous'] == True]\n",
    "df_hazardous"
   ]
  },
  {
   "cell_type": "markdown",
   "id": "bb717042",
   "metadata": {},
   "source": [
    "Veamos ahora cómo se compara el tamaño de los objetos potencialmente peligrosos con otros valores: la velocidad relativa y la distancia:"
   ]
  },
  {
   "cell_type": "code",
   "execution_count": 12,
   "id": "ef09101e",
   "metadata": {},
   "outputs": [
    {
     "data": {
      "text/plain": [
       "<AxesSubplot:xlabel='size', ylabel='relative_velocity'>"
      ]
     },
     "execution_count": 12,
     "metadata": {},
     "output_type": "execute_result"
    },
    {
     "data": {
      "image/png": "[encoded data removed]",
      "text/plain": [
       "<Figure size 432x288 with 1 Axes>"
      ]
     },
     "metadata": {
      "needs_background": "light"
     },
     "output_type": "display_data"
    }
   ],
   "source": [
    "import seaborn as sns\n",
    "sns.regplot(x='size', y='relative_velocity', data=df_hazardous)"
   ]
  },
  {
   "cell_type": "code",
   "execution_count": 13,
   "id": "01119415",
   "metadata": {},
   "outputs": [
    {
     "data": {
      "text/plain": [
       "<AxesSubplot:xlabel='size', ylabel='miss_distance'>"
      ]
     },
     "execution_count": 13,
     "metadata": {},
     "output_type": "execute_result"
    },
    {
     "data": {
      "image/png": "[encoded data removed]",
      "text/plain": [
       "<Figure size 432x288 with 1 Axes>"
      ]
     },
     "metadata": {
      "needs_background": "light"
     },
     "output_type": "display_data"
    }
   ],
   "source": [
    "sns.regplot(x='size', y='miss_distance', data=df_hazardous)"
   ]
  },
  {
   "cell_type": "markdown",
   "id": "e62c7cad",
   "metadata": {},
   "source": [
    "Vamos a comparar ahora los peligrosos y los no peligrosos:"
   ]
  },
  {
   "cell_type": "code",
   "execution_count": 14,
   "id": "3d47f280",
   "metadata": {},
   "outputs": [
    {
     "data": {
      "text/plain": [
       "<AxesSubplot:xlabel='hazardous', ylabel='miss_distance'>"
      ]
     },
     "execution_count": 14,
     "metadata": {},
     "output_type": "execute_result"
    },
    {
     "data": {
      "image/png": "[encoded data removed]",
      "text/plain": [
       "<Figure size 432x288 with 1 Axes>"
      ]
     },
     "metadata": {
      "needs_background": "light"
     },
     "output_type": "display_data"
    }
   ],
   "source": [
    "colors = ['#78C850', '#FF2222']\n",
    "sns.boxplot(x='hazardous', y='miss_distance', data=df_objects, palette=colors)"
   ]
  },
  {
   "cell_type": "code",
   "execution_count": 15,
   "id": "b91f9cfc",
   "metadata": {},
   "outputs": [
    {
     "data": {
      "text/plain": [
       "<AxesSubplot:xlabel='hazardous', ylabel='relative_velocity'>"
      ]
     },
     "execution_count": 15,
     "metadata": {},
     "output_type": "execute_result"
    },
    {
     "data": {
      "image/png": "[encoded data removed]",
      "text/plain": [
       "<Figure size 432x288 with 1 Axes>"
      ]
     },
     "metadata": {
      "needs_background": "light"
     },
     "output_type": "display_data"
    }
   ],
   "source": [
    "sns.boxplot(x='hazardous', y='relative_velocity', data=df_objects, palette=colors)"
   ]
  },
  {
   "cell_type": "code",
   "execution_count": 16,
   "id": "1ad7b5d1",
   "metadata": {},
   "outputs": [
    {
     "data": {
      "text/plain": [
       "<AxesSubplot:xlabel='hazardous', ylabel='size'>"
      ]
     },
     "execution_count": 16,
     "metadata": {},
     "output_type": "execute_result"
    },
    {
     "data": {
      "image/png": "[encoded data removed]",
      "text/plain": [
       "<Figure size 432x288 with 1 Axes>"
      ]
     },
     "metadata": {
      "needs_background": "light"
     },
     "output_type": "display_data"
    }
   ],
   "source": [
    "sns.boxplot(x='hazardous', y='size', data=df_objects, palette=colors)"
   ]
  },
  {
   "cell_type": "markdown",
   "id": "4162c938",
   "metadata": {},
   "source": [
    "De lo visto, parece que hay _algo_ más de probabilidad de que un objeto sea peligroso con una mayor velocidad relativa, pero que al final esto es una lotería cósmica, oye."
   ]
  },
  {
   "cell_type": "code",
   "execution_count": null,
   "id": "621e54de",
   "metadata": {},
   "outputs": [],
   "source": []
  }
 ],
 "metadata": {
  "kernelspec": {
   "display_name": "Python 3 (ipykernel)",
   "language": "python",
   "name": "python3"
  },
  "language_info": {
   "codemirror_mode": {
    "name": "ipython",
    "version": 3
   },
   "file_extension": ".py",
   "mimetype": "text/x-python",
   "name": "python",
   "nbconvert_exporter": "python",
   "pygments_lexer": "ipython3",
   "version": "3.8.10"
  }
 },
 "nbformat": 4,
 "nbformat_minor": 5
}
